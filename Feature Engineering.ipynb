{
 "cells": [
  {
   "cell_type": "code",
   "execution_count": 1,
   "metadata": {},
   "outputs": [],
   "source": [
    "import numpy as np\n",
    "import pandas as pd\n",
    "import matplotlib.pyplot as plt\n",
    "import seaborn as sns\n",
    "from math import sqrt\n",
    "from sklearn.model_selection import train_test_split\n",
    "from sklearn.metrics import mean_squared_error\n",
    "%matplotlib inline"
   ]
  },
  {
   "cell_type": "code",
   "execution_count": 2,
   "metadata": {},
   "outputs": [],
   "source": [
    "train_df = pd.read_csv('./train/train.csv')\n",
    "test_df = pd.read_csv('./test/test.csv')\n",
    "original_train_df = train_df.copy()\n",
    "original_test_df = test_df.copy()"
   ]
  },
  {
   "cell_type": "code",
   "execution_count": 3,
   "metadata": {},
   "outputs": [
    {
     "data": {
      "text/plain": [
       "((341424, 24), (146765, 23))"
      ]
     },
     "execution_count": 3,
     "metadata": {},
     "output_type": "execute_result"
    }
   ],
   "source": [
    "train_df.shape, test_df.shape"
   ]
  },
  {
   "cell_type": "code",
   "execution_count": 4,
   "metadata": {},
   "outputs": [
    {
     "data": {
      "text/plain": [
       "reservation_id                         object\n",
       "booking_date                           object\n",
       "checkin_date                           object\n",
       "checkout_date                          object\n",
       "channel_code                            int64\n",
       "main_product_code                       int64\n",
       "numberofadults                          int64\n",
       "numberofchildren                        int64\n",
       "persontravellingid                      int64\n",
       "resort_region_code                      int64\n",
       "resort_type_code                        int64\n",
       "room_type_booked_code                   int64\n",
       "roomnights                              int64\n",
       "season_holidayed_code                 float64\n",
       "state_code_residence                  float64\n",
       "state_code_resort                       int64\n",
       "total_pax                               int64\n",
       "member_age_buckets                     object\n",
       "booking_type_code                       int64\n",
       "memberid                               object\n",
       "cluster_code                           object\n",
       "reservationstatusid_code               object\n",
       "resort_id                              object\n",
       "amount_spent_per_room_night_scaled    float64\n",
       "dtype: object"
      ]
     },
     "execution_count": 4,
     "metadata": {},
     "output_type": "execute_result"
    }
   ],
   "source": [
    "train_df.dtypes"
   ]
  },
  {
   "cell_type": "code",
   "execution_count": 5,
   "metadata": {},
   "outputs": [
    {
     "data": {
      "text/plain": [
       "(reservation_id                           0\n",
       " booking_date                             0\n",
       " checkin_date                             0\n",
       " checkout_date                            0\n",
       " channel_code                             0\n",
       " main_product_code                        0\n",
       " numberofadults                           0\n",
       " numberofchildren                         0\n",
       " persontravellingid                       0\n",
       " resort_region_code                       0\n",
       " resort_type_code                         0\n",
       " room_type_booked_code                    0\n",
       " roomnights                               0\n",
       " season_holidayed_code                  114\n",
       " state_code_residence                  4764\n",
       " state_code_resort                        0\n",
       " total_pax                                0\n",
       " member_age_buckets                       0\n",
       " booking_type_code                        0\n",
       " memberid                                 0\n",
       " cluster_code                             0\n",
       " reservationstatusid_code                 0\n",
       " resort_id                                0\n",
       " amount_spent_per_room_night_scaled       0\n",
       " dtype: int64, reservation_id                 0\n",
       " booking_date                   0\n",
       " checkin_date                   0\n",
       " checkout_date                  0\n",
       " channel_code                   0\n",
       " main_product_code              0\n",
       " numberofadults                 0\n",
       " numberofchildren               0\n",
       " persontravellingid             0\n",
       " resort_region_code             0\n",
       " resort_type_code               0\n",
       " room_type_booked_code          0\n",
       " roomnights                     0\n",
       " season_holidayed_code         35\n",
       " state_code_residence        2260\n",
       " state_code_resort              0\n",
       " total_pax                      0\n",
       " member_age_buckets             0\n",
       " booking_type_code              0\n",
       " memberid                       0\n",
       " cluster_code                   0\n",
       " reservationstatusid_code       0\n",
       " resort_id                      0\n",
       " dtype: int64)"
      ]
     },
     "execution_count": 5,
     "metadata": {},
     "output_type": "execute_result"
    }
   ],
   "source": [
    "train_df.isnull().sum(), test_df.isnull().sum()"
   ]
  },
  {
   "cell_type": "code",
   "execution_count": 6,
   "metadata": {},
   "outputs": [],
   "source": [
    "train_df['season_holidayed_code'].fillna(0.0, inplace=True)\n",
    "train_df['state_code_residence'].fillna(0.0, inplace=True)\n",
    "\n",
    "test_df['season_holidayed_code'].fillna(0.0, inplace=True)\n",
    "test_df['state_code_residence'].fillna(0.0, inplace=True)"
   ]
  },
  {
   "cell_type": "code",
   "execution_count": 7,
   "metadata": {},
   "outputs": [
    {
     "data": {
      "text/plain": [
       "(array(['F', 'E', 'D', 'B', 'A', 'C'], dtype=object),\n",
       " array(['C', 'A', 'B', 'D'], dtype=object),\n",
       " array(['4e07408562bedb8b60ce05c1decfe3ad16b72230967de01f640b7e4729b49fce',\n",
       "        '39fa9ec190eee7b6f4dff1100d6343e10918d044c75eac8f9e9a2596173f80c9',\n",
       "        '535fa30d7e25dd8a49f1536779734ec8286108d115da5045d77f3b4185d8f790',\n",
       "        'd4735e3a265e16eee03f59718b9b5d03019c07d8b6c51f90da3a666eec13ab35',\n",
       "        'b17ef6d19c7a5b1ee83b907c595526dcb1eb06db8227d650d5dda0a9f4ce8cd9',\n",
       "        'ff5a1ae012afa5d4c889c50ad427aaf545d31a4fac04ffc1c4d03d403ba4250a',\n",
       "        '0b918943df0962bc7a1824c0555a389347b4febdc7cf9d1254406d80ce44e3f9',\n",
       "        'a68b412c4282555f15546cf6e1fc42893b7e07f271557ceb021821098dd66c1b',\n",
       "        '7f2253d7e228b22a08bda1f09c516f6fead81df6536eb02fa991a34bb38d9be8',\n",
       "        '4ec9599fc203d176a301536c2e091a19bc852759b255bd6818810a42c5fed14a',\n",
       "        '49d180ecf56132819571bf39d9b7b342522a2ac6d23c1418d3338251bfe469c8',\n",
       "        'e7f6c011776e8db7cd330b54174fd76f7d0216b612387a5ffcfb81e6f0919683',\n",
       "        '624b60c58c9d8bfb6ff1886c2fd605d2adeb6ea4da576068201b6c6958ce93f4',\n",
       "        '3e1e967e9b793e908f8eae83c74dba9bcccce6a5535b4b462bd9994537bfe15c',\n",
       "        '9f14025af0065b30e47e23ebb3b491d39ae8ed17d33739e5ff3827ffb3634953',\n",
       "        'e29c9c180c6279b0b02abd6a1801c7c04082cf486ec027aa13515e4f3884bb6b',\n",
       "        'da4ea2a5506f2693eae190d9360a1f31793c98a1adade51d93533a6f520ace1c',\n",
       "        '9400f1b21cb527d7fa3d3eabba93557a18ebe7a2ca4e471cfe5e4c5b4ca7f767',\n",
       "        '48449a14a4ff7d79bb7a1b6f3d488eba397c36ef25634c111b49baf362511afc',\n",
       "        '6b86b273ff34fce19d6b804eff5a3f5747ada4eaa22f1d49c01e52ddb7875b4b',\n",
       "        '670671cd97404156226e507973f2ab8330d3022ca96e0c93bdbdb320c41adcaf',\n",
       "        'f5ca38f748a1d6eaf726b8a42fb575c3c71f1864a8143301782de13da2d9202b',\n",
       "        'c6f3ac57944a531490cd39902d0f777715fd005efac9a30622d5f5205e7f6894',\n",
       "        '81b8a03f97e8787c53fe1a86bda042b6f0de9b0ec9c09357e107c99ba4d6948a',\n",
       "        'c75cb66ae28d8ebc6eded002c28a8ba0d06d3a78c6b5cbf9b2ade051f0775ac4',\n",
       "        '7902699be42c8a8e46fbbb4501726517e86b22c56a189f7625a6da49081b2451',\n",
       "        '6208ef0f7750c111548cf90b6ea1d0d0a66f6bff40dbef07cb45ec436263c7d6',\n",
       "        'ef2d127de37b942baad06145e54b0c619a1f22327b2ebbcfbec78f5564afe39d',\n",
       "        '8722616204217eddb39e7df969e0698aed8e599ba62ed2de1ce49b03ade0fede',\n",
       "        '3fdba35f04dc8c462986c992bcf875546257113072a909c162f7e470e581e278',\n",
       "        '4b227777d4dd1fc61c6f884f48641d02b4d121d3fd328cb08b5531fcacdabf8a',\n",
       "        '98a3ab7c340e8a033e7b37b6ef9428751581760af67bbab2b9e05d4964a8874a'],\n",
       "       dtype=object),\n",
       " array(['F', 'H', 'D', 'E', 'I', 'G', 'C', 'B', 'A', 'J'], dtype=object))"
      ]
     },
     "execution_count": 7,
     "metadata": {},
     "output_type": "execute_result"
    }
   ],
   "source": [
    "train_df['cluster_code'].unique(), train_df['reservationstatusid_code'].unique(), train_df['resort_id'].unique(), train_df['member_age_buckets'].unique()"
   ]
  },
  {
   "cell_type": "code",
   "execution_count": 8,
   "metadata": {},
   "outputs": [
    {
     "data": {
      "text/plain": [
       "(array(['A', 'F', 'D', 'E', 'C', 'B'], dtype=object),\n",
       " array(['C', 'A', 'B'], dtype=object),\n",
       " array(['9f14025af0065b30e47e23ebb3b491d39ae8ed17d33739e5ff3827ffb3634953',\n",
       "        'e7f6c011776e8db7cd330b54174fd76f7d0216b612387a5ffcfb81e6f0919683',\n",
       "        'd4735e3a265e16eee03f59718b9b5d03019c07d8b6c51f90da3a666eec13ab35',\n",
       "        '49d180ecf56132819571bf39d9b7b342522a2ac6d23c1418d3338251bfe469c8',\n",
       "        'e29c9c180c6279b0b02abd6a1801c7c04082cf486ec027aa13515e4f3884bb6b',\n",
       "        'b17ef6d19c7a5b1ee83b907c595526dcb1eb06db8227d650d5dda0a9f4ce8cd9',\n",
       "        'c75cb66ae28d8ebc6eded002c28a8ba0d06d3a78c6b5cbf9b2ade051f0775ac4',\n",
       "        '535fa30d7e25dd8a49f1536779734ec8286108d115da5045d77f3b4185d8f790',\n",
       "        '3fdba35f04dc8c462986c992bcf875546257113072a909c162f7e470e581e278',\n",
       "        '7f2253d7e228b22a08bda1f09c516f6fead81df6536eb02fa991a34bb38d9be8',\n",
       "        '9400f1b21cb527d7fa3d3eabba93557a18ebe7a2ca4e471cfe5e4c5b4ca7f767',\n",
       "        'ff5a1ae012afa5d4c889c50ad427aaf545d31a4fac04ffc1c4d03d403ba4250a',\n",
       "        '6208ef0f7750c111548cf90b6ea1d0d0a66f6bff40dbef07cb45ec436263c7d6',\n",
       "        '0b918943df0962bc7a1824c0555a389347b4febdc7cf9d1254406d80ce44e3f9',\n",
       "        '7902699be42c8a8e46fbbb4501726517e86b22c56a189f7625a6da49081b2451',\n",
       "        'f5ca38f748a1d6eaf726b8a42fb575c3c71f1864a8143301782de13da2d9202b',\n",
       "        '3e1e967e9b793e908f8eae83c74dba9bcccce6a5535b4b462bd9994537bfe15c',\n",
       "        '8722616204217eddb39e7df969e0698aed8e599ba62ed2de1ce49b03ade0fede',\n",
       "        '4ec9599fc203d176a301536c2e091a19bc852759b255bd6818810a42c5fed14a',\n",
       "        'a68b412c4282555f15546cf6e1fc42893b7e07f271557ceb021821098dd66c1b',\n",
       "        '48449a14a4ff7d79bb7a1b6f3d488eba397c36ef25634c111b49baf362511afc',\n",
       "        '98a3ab7c340e8a033e7b37b6ef9428751581760af67bbab2b9e05d4964a8874a',\n",
       "        '39fa9ec190eee7b6f4dff1100d6343e10918d044c75eac8f9e9a2596173f80c9',\n",
       "        'da4ea2a5506f2693eae190d9360a1f31793c98a1adade51d93533a6f520ace1c',\n",
       "        '4e07408562bedb8b60ce05c1decfe3ad16b72230967de01f640b7e4729b49fce',\n",
       "        '670671cd97404156226e507973f2ab8330d3022ca96e0c93bdbdb320c41adcaf',\n",
       "        '6b86b273ff34fce19d6b804eff5a3f5747ada4eaa22f1d49c01e52ddb7875b4b',\n",
       "        '81b8a03f97e8787c53fe1a86bda042b6f0de9b0ec9c09357e107c99ba4d6948a',\n",
       "        'ef2d127de37b942baad06145e54b0c619a1f22327b2ebbcfbec78f5564afe39d',\n",
       "        'c6f3ac57944a531490cd39902d0f777715fd005efac9a30622d5f5205e7f6894',\n",
       "        '624b60c58c9d8bfb6ff1886c2fd605d2adeb6ea4da576068201b6c6958ce93f4',\n",
       "        '4b227777d4dd1fc61c6f884f48641d02b4d121d3fd328cb08b5531fcacdabf8a'],\n",
       "       dtype=object),\n",
       " array(['H', 'D', 'F', 'E', 'G', 'B', 'C', 'I', 'A', 'J'], dtype=object))"
      ]
     },
     "execution_count": 8,
     "metadata": {},
     "output_type": "execute_result"
    }
   ],
   "source": [
    "test_df['cluster_code'].unique(), test_df['reservationstatusid_code'].unique(), test_df['resort_id'].unique(), test_df['member_age_buckets'].unique()"
   ]
  },
  {
   "cell_type": "code",
   "execution_count": 9,
   "metadata": {},
   "outputs": [],
   "source": [
    "# A as 1, B as 2, C as 3, D as 4, E as 5 & F as 6 FOR CLUSTER_CODE\n",
    "train_df['cluster_code'] = train_df['cluster_code'].replace(('A','B','C','D','E','F'),(1,2,3,4,5,6))\n",
    "test_df['cluster_code'] = test_df['cluster_code'].replace(('A','B','C','D','E','F'),(1,2,3,4,5,6))\n",
    "\n",
    "# A as 1, B as 2, C as 3 & D as 4 FOR RESERVATION STATUS ID CODE\n",
    "train_df['reservationstatusid_code'] = train_df['reservationstatusid_code'].replace(('A','B','C','D'),(1,2,3,4))\n",
    "test_df['reservationstatusid_code'] = test_df['reservationstatusid_code'].replace(('A','B','C'),(1,2,3))\n",
    "\n",
    "# A as 1, B as 2, C as 3, D as 4, E as 5, F as 6, G as 7, H as 8, I as 9 & J as 10 FOR MEMBER_AGE_BUCKET\n",
    "train_df['member_age_buckets'] = train_df['member_age_buckets'].replace(('A','B','C','D','E','F','G','H','I','J'),(1,2,3,4,5,6,7,8,9,10))\n",
    "test_df['member_age_buckets'] = test_df['member_age_buckets'].replace(('A','B','C','D','E','F','G','H','I','J'),(1,2,3,4,5,6,7,8,9,10))"
   ]
  },
  {
   "cell_type": "code",
   "execution_count": 10,
   "metadata": {},
   "outputs": [],
   "source": [
    "train_df['booking_date'] = pd.to_datetime(train_df['booking_date'], format='%d/%m/%y')\n",
    "train_df['checkin_date'] = pd.to_datetime(train_df['checkin_date'], format='%d/%m/%y')\n",
    "train_df['checkout_date'] = pd.to_datetime(train_df['checkout_date'], format='%d/%m/%y')\n",
    "\n",
    "test_df['booking_date'] = pd.to_datetime(test_df['booking_date'], format='%d/%m/%y')\n",
    "test_df['checkin_date'] = pd.to_datetime(test_df['checkin_date'], format='%d/%m/%y')\n",
    "test_df['checkout_date'] = pd.to_datetime(test_df['checkout_date'], format='%d/%m/%y')"
   ]
  },
  {
   "cell_type": "code",
   "execution_count": 11,
   "metadata": {},
   "outputs": [],
   "source": [
    "for i in (train_df, test_df):\n",
    "    i['b_year'] = i['booking_date'].dt.year\n",
    "    i['b_month'] = i['booking_date'].dt.month\n",
    "    i['c_in_year'] = i['checkin_date'].dt.year\n",
    "    i['c_in_month'] = i['checkin_date'].dt.month\n",
    "    i['c_out_year'] = i['checkout_date'].dt.year\n",
    "    i['c_out_month'] = i['checkout_date'].dt.month"
   ]
  },
  {
   "cell_type": "code",
   "execution_count": 12,
   "metadata": {},
   "outputs": [
    {
     "data": {
      "text/plain": [
       "Index(['reservation_id', 'booking_date', 'checkin_date', 'checkout_date',\n",
       "       'channel_code', 'main_product_code', 'numberofadults',\n",
       "       'numberofchildren', 'persontravellingid', 'resort_region_code',\n",
       "       'resort_type_code', 'room_type_booked_code', 'roomnights',\n",
       "       'season_holidayed_code', 'state_code_residence', 'state_code_resort',\n",
       "       'total_pax', 'member_age_buckets', 'booking_type_code', 'memberid',\n",
       "       'cluster_code', 'reservationstatusid_code', 'resort_id',\n",
       "       'amount_spent_per_room_night_scaled', 'b_year', 'b_month', 'c_in_year',\n",
       "       'c_in_month', 'c_out_year', 'c_out_month'],\n",
       "      dtype='object')"
      ]
     },
     "execution_count": 12,
     "metadata": {},
     "output_type": "execute_result"
    }
   ],
   "source": [
    "train_df.columns"
   ]
  },
  {
   "cell_type": "markdown",
   "metadata": {},
   "source": [
    "### resort_id label encoder"
   ]
  },
  {
   "cell_type": "code",
   "execution_count": 13,
   "metadata": {},
   "outputs": [],
   "source": [
    "from sklearn.preprocessing import LabelEncoder\n",
    "gle = LabelEncoder()\n",
    "\n",
    "gle.fit(train_df['resort_id'])\n",
    "train_df['resort_id'] = gle.transform(train_df['resort_id'])\n",
    "test_df['resort_id'] = gle.transform(test_df['resort_id'])"
   ]
  },
  {
   "cell_type": "code",
   "execution_count": 14,
   "metadata": {},
   "outputs": [
    {
     "data": {
      "text/plain": [
       "Index(['reservation_id', 'booking_date', 'checkin_date', 'checkout_date',\n",
       "       'channel_code', 'main_product_code', 'numberofadults',\n",
       "       'numberofchildren', 'persontravellingid', 'resort_region_code',\n",
       "       'resort_type_code', 'room_type_booked_code', 'roomnights',\n",
       "       'season_holidayed_code', 'state_code_residence', 'state_code_resort',\n",
       "       'total_pax', 'member_age_buckets', 'booking_type_code', 'memberid',\n",
       "       'cluster_code', 'reservationstatusid_code', 'resort_id',\n",
       "       'amount_spent_per_room_night_scaled', 'b_year', 'b_month', 'c_in_year',\n",
       "       'c_in_month', 'c_out_year', 'c_out_month'],\n",
       "      dtype='object')"
      ]
     },
     "execution_count": 14,
     "metadata": {},
     "output_type": "execute_result"
    }
   ],
   "source": [
    "train_df.columns"
   ]
  },
  {
   "cell_type": "code",
   "execution_count": 15,
   "metadata": {},
   "outputs": [
    {
     "data": {
      "text/plain": [
       "(                                      reservation_id booking_date  \\\n",
       " 0  07659f3758d8aee27f5a7e2887adeacb67021cb95ada1b...   2018-04-05   \n",
       " 1  03930f033646d073462b35d411616323597715ac4fc398...   2015-01-23   \n",
       " 2  d145a32920e6587ad95bfe299d80c0affa268220535aaf...   2015-01-28   \n",
       " 3  cfd77f44811ed62f25a220b53324cdbafc662a4c9e5f04...   2015-05-02   \n",
       " 4  937cff9e4dcfc2459620153dfc8b9962ac22bea67dfb29...   2015-09-02   \n",
       " \n",
       "   checkin_date checkout_date  channel_code  main_product_code  numberofadults  \\\n",
       " 0   2018-04-05    2018-04-06             3                  1               2   \n",
       " 1   2015-04-11    2015-04-16             1                  1               2   \n",
       " 2   2015-02-01    2015-02-05             1                  1               2   \n",
       " 3   2015-06-11    2015-06-16             1                  1               2   \n",
       " 4   2015-12-14    2015-12-19             1                  1               2   \n",
       " \n",
       "    numberofchildren  persontravellingid  resort_region_code  ...  \\\n",
       " 0                 0                  46                   3  ...   \n",
       " 1                 0                  46                   3  ...   \n",
       " 2                 0                  47                   1  ...   \n",
       " 3                 2                  46                   2  ...   \n",
       " 4                 0                  46                   2  ...   \n",
       " \n",
       "    cluster_code  reservationstatusid_code  resort_id  \\\n",
       " 0             6                         3          7   \n",
       " 1             6                         1          1   \n",
       " 2             5                         1          9   \n",
       " 3             4                         1         25   \n",
       " 4             4                         1         25   \n",
       " \n",
       "    amount_spent_per_room_night_scaled  b_year  b_month  c_in_year  c_in_month  \\\n",
       " 0                            7.706428    2018        4       2018           4   \n",
       " 1                            6.662563    2015        1       2015           4   \n",
       " 2                            7.871602    2015        1       2015           2   \n",
       " 3                            5.344943    2015        5       2015           6   \n",
       " 4                            7.059346    2015        9       2015          12   \n",
       " \n",
       "    c_out_year c_out_month  \n",
       " 0        2018           4  \n",
       " 1        2015           4  \n",
       " 2        2015           2  \n",
       " 3        2015           6  \n",
       " 4        2015          12  \n",
       " \n",
       " [5 rows x 30 columns],\n",
       "                                       reservation_id booking_date  \\\n",
       " 0  7dae1ce6bc8f69481328f2be5c4943077dad5598b5f66d...   2018-04-05   \n",
       " 1  fe0d4e444e1818436c88f72f1cf800536c2f785e59baeb...   2015-05-24   \n",
       " 2  540bd4285ad8168e8388f84ee74a82cd4f97dc0a404d3e...   2015-07-21   \n",
       " 3  09593c907ae262e46f655b4db9e14f54a19eadcfdd2679...   2015-07-31   \n",
       " 4  f4c50caac68051faf37551d70bb17eebef2a20e2244cb1...   2016-07-01   \n",
       " \n",
       "   checkin_date checkout_date  channel_code  main_product_code  numberofadults  \\\n",
       " 0   2018-04-05    2018-04-06             3                  2               2   \n",
       " 1   2015-06-23    2015-06-27             1                  2               4   \n",
       " 2   2015-08-07    2015-08-10             3                  2               3   \n",
       " 3   2015-10-22    2015-10-25             1                  2               3   \n",
       " 4   2016-10-01    2016-10-05             1                  2               4   \n",
       " \n",
       "    numberofchildren  persontravellingid  resort_region_code  ...  \\\n",
       " 0                 0                  45                   3  ...   \n",
       " 1                 0                  45                   1  ...   \n",
       " 2                 0                  45                   2  ...   \n",
       " 3                 0                  45                   1  ...   \n",
       " 4                 0                  45                   1  ...   \n",
       " \n",
       "                                             memberid  cluster_code  \\\n",
       " 0  2114944930dcc42ce5b9b50ae965cf8a9c04e46be63d84...             1   \n",
       " 1  2114944930dcc42ce5b9b50ae965cf8a9c04e46be63d84...             6   \n",
       " 2  2114944930dcc42ce5b9b50ae965cf8a9c04e46be63d84...             4   \n",
       " 3  2114944930dcc42ce5b9b50ae965cf8a9c04e46be63d84...             6   \n",
       " 4  2114944930dcc42ce5b9b50ae965cf8a9c04e46be63d84...             6   \n",
       " \n",
       "    reservationstatusid_code  resort_id  b_year  b_month  c_in_year  \\\n",
       " 0                         3         20    2018        4       2018   \n",
       " 1                         1         28    2015        5       2015   \n",
       " 2                         1         25    2015        7       2015   \n",
       " 3                         1          5    2015        7       2015   \n",
       " 4                         1         27    2016        7       2016   \n",
       " \n",
       "    c_in_month  c_out_year c_out_month  \n",
       " 0           4        2018           4  \n",
       " 1           6        2015           6  \n",
       " 2           8        2015           8  \n",
       " 3          10        2015          10  \n",
       " 4          10        2016          10  \n",
       " \n",
       " [5 rows x 29 columns])"
      ]
     },
     "execution_count": 15,
     "metadata": {},
     "output_type": "execute_result"
    }
   ],
   "source": [
    "train_df.head(), test_df.head()"
   ]
  },
  {
   "cell_type": "code",
   "execution_count": 16,
   "metadata": {},
   "outputs": [],
   "source": [
    "features = ['channel_code', 'main_product_code', 'numberofadults',\n",
    "       'numberofchildren', 'persontravellingid', 'resort_region_code',\n",
    "       'resort_type_code', 'room_type_booked_code', 'roomnights',\n",
    "       'season_holidayed_code', 'state_code_residence', 'state_code_resort',\n",
    "       'total_pax', 'member_age_buckets', 'booking_type_code',\n",
    "       'cluster_code', 'reservationstatusid_code', 'b_year', 'b_month', 'c_in_year',\n",
    "       'c_in_month', 'c_out_year', 'c_out_month','resort_id']\n",
    "target = ['amount_spent_per_room_night_scaled']"
   ]
  },
  {
   "cell_type": "code",
   "execution_count": 17,
   "metadata": {},
   "outputs": [],
   "source": [
    "X = train_df[features] \n",
    "y = train_df[target]"
   ]
  },
  {
   "cell_type": "code",
   "execution_count": 18,
   "metadata": {},
   "outputs": [],
   "source": [
    "x_train, x_cv, y_train, y_cv = train_test_split(X, y, test_size=0.3)"
   ]
  },
  {
   "cell_type": "markdown",
   "metadata": {},
   "source": [
    "## Linear regression"
   ]
  },
  {
   "cell_type": "code",
   "execution_count": 19,
   "metadata": {},
   "outputs": [
    {
     "data": {
      "text/plain": [
       "LinearRegression(copy_X=True, fit_intercept=True, n_jobs=None,\n",
       "         normalize=False)"
      ]
     },
     "execution_count": 19,
     "metadata": {},
     "output_type": "execute_result"
    }
   ],
   "source": [
    "from sklearn.linear_model import LinearRegression\n",
    "\n",
    "regressor = LinearRegression()\n",
    "regressor.fit(x_train, y_train)"
   ]
  },
  {
   "cell_type": "code",
   "execution_count": 20,
   "metadata": {},
   "outputs": [
    {
     "data": {
      "text/plain": [
       "array([[7.23180195],\n",
       "       [8.11685489],\n",
       "       [7.6485663 ],\n",
       "       ...,\n",
       "       [7.83534693],\n",
       "       [7.99097436],\n",
       "       [8.47555435]])"
      ]
     },
     "execution_count": 20,
     "metadata": {},
     "output_type": "execute_result"
    }
   ],
   "source": [
    "y_prediction = regressor.predict(x_cv)\n",
    "y_prediction"
   ]
  },
  {
   "cell_type": "code",
   "execution_count": 21,
   "metadata": {},
   "outputs": [
    {
     "name": "stdout",
     "output_type": "stream",
     "text": [
      "1.0439415353522346\n"
     ]
    }
   ],
   "source": [
    "rms = sqrt(mean_squared_error(y_true=y_cv, y_pred=y_prediction))\n",
    "print(rms)"
   ]
  },
  {
   "cell_type": "markdown",
   "metadata": {},
   "source": [
    "## Random Forest"
   ]
  },
  {
   "cell_type": "code",
   "execution_count": 22,
   "metadata": {},
   "outputs": [],
   "source": [
    "from sklearn.ensemble import RandomForestRegressor\n",
    "rfr = RandomForestRegressor(max_depth=20, n_estimators=300, random_state=False, verbose=False)"
   ]
  },
  {
   "cell_type": "code",
   "execution_count": 23,
   "metadata": {},
   "outputs": [
    {
     "name": "stderr",
     "output_type": "stream",
     "text": [
      "C:\\Users\\DELL\\Anaconda3\\lib\\site-packages\\ipykernel_launcher.py:1: DataConversionWarning: A column-vector y was passed when a 1d array was expected. Please change the shape of y to (n_samples,), for example using ravel().\n",
      "  \"\"\"Entry point for launching an IPython kernel.\n"
     ]
    },
    {
     "data": {
      "text/plain": [
       "array([7.41181462, 7.91541464, 7.7431341 , ..., 7.99331852, 7.99721686,\n",
       "       8.49628479])"
      ]
     },
     "execution_count": 23,
     "metadata": {},
     "output_type": "execute_result"
    }
   ],
   "source": [
    "rfr.fit(x_train, y_train)\n",
    "y_prediction = rfr.predict(x_cv)\n",
    "y_prediction"
   ]
  },
  {
   "cell_type": "code",
   "execution_count": 24,
   "metadata": {},
   "outputs": [
    {
     "name": "stdout",
     "output_type": "stream",
     "text": [
      "1.0290412832017304\n"
     ]
    }
   ],
   "source": [
    "rms = sqrt(mean_squared_error(y_true=y_cv, y_pred=y_prediction))\n",
    "print(rms)"
   ]
  },
  {
   "cell_type": "code",
   "execution_count": null,
   "metadata": {},
   "outputs": [],
   "source": [
    "X_test = test_df[features]\n",
    "pred_test = rfr.predict(X_test)\n",
    "submission = pd.read_csv('sample_submission/sample_submission.csv')\n",
    "submission['amount_spent_per_room_night_scaled'] = pred_test\n",
    "submission['reservation_id'] = original_test_df['reservation_id']\n",
    "\n",
    "submission.to_csv('randomForestRegressionNew.csv', columns = ['reservation_id', 'amount_spent_per_room_night_scaled'], index=False)"
   ]
  },
  {
   "cell_type": "markdown",
   "metadata": {},
   "source": [
    "## XGB Regressor"
   ]
  },
  {
   "cell_type": "code",
   "execution_count": 28,
   "metadata": {},
   "outputs": [
    {
     "name": "stdout",
     "output_type": "stream",
     "text": [
      "1.0094802359886044\n"
     ]
    }
   ],
   "source": [
    "from xgboost import XGBRegressor\n",
    "xgbr2 = XGBRegressor(max_depth=10, n_estimators=100, objective='reg:linear',learning_rate=0.1,\n",
    "                   colsample_bytree=0.3, alpha=10)\n",
    "xgbr2.fit(x_train,y_train)\n",
    "y_prediction = xgbr2.predict(x_cv)\n",
    "rms = sqrt(mean_squared_error(y_true=y_cv, y_pred=y_prediction))\n",
    "print(rms)"
   ]
  },
  {
   "cell_type": "code",
   "execution_count": 30,
   "metadata": {},
   "outputs": [],
   "source": [
    "X_test = test_df[features]\n",
    "pred_test = xgbr2.predict(X_test)\n",
    "submission = pd.read_csv('sample_submission/sample_submission.csv')\n",
    "submission['amount_spent_per_room_night_scaled'] = pred_test\n",
    "submission['reservation_id'] = original_test_df['reservation_id']\n",
    "\n",
    "submission.to_csv('xgbRegressorNew.csv', columns = ['reservation_id', 'amount_spent_per_room_night_scaled'], index=False)"
   ]
  },
  {
   "cell_type": "markdown",
   "metadata": {},
   "source": [
    "## Grid Search CV on XGBRegressor"
   ]
  },
  {
   "cell_type": "code",
   "execution_count": 32,
   "metadata": {},
   "outputs": [
    {
     "name": "stdout",
     "output_type": "stream",
     "text": [
      "Fitting 5 folds for each of 120 candidates, totalling 600 fits\n"
     ]
    },
    {
     "name": "stderr",
     "output_type": "stream",
     "text": [
      "[Parallel(n_jobs=5)]: Using backend LokyBackend with 5 concurrent workers.\n",
      "[Parallel(n_jobs=5)]: Done  40 tasks      | elapsed: 18.4min\n",
      "[Parallel(n_jobs=5)]: Done 190 tasks      | elapsed: 114.0min\n",
      "[Parallel(n_jobs=5)]: Done 440 tasks      | elapsed: 327.5min\n",
      "[Parallel(n_jobs=5)]: Done 600 out of 600 | elapsed: 469.3min finished\n"
     ]
    },
    {
     "data": {
      "text/plain": [
       "GridSearchCV(cv=5, error_score='raise-deprecating',\n",
       "       estimator=XGBRegressor(base_score=0.5, booster='gbtree', colsample_bylevel=1,\n",
       "       colsample_bytree=1, gamma=0, importance_type='gain',\n",
       "       learning_rate=0.1, max_delta_step=0, max_depth=3,\n",
       "       min_child_weight=1, missing=None, n_estimators=100, n_jobs=1,\n",
       "       nthread=None, objective='reg:linear', random_state=0, reg_alpha=0,\n",
       "       reg_lambda=1, scale_pos_weight=1, seed=None, silent=True,\n",
       "       subsample=1),\n",
       "       fit_params=None, iid='warn', n_jobs=5,\n",
       "       param_grid={'nthread': [4], 'objective': ['reg:linear'], 'learning_rate': [0.03, 0.05, 0.07, 0.1], 'max_depth': [5, 10, 15], 'min_child_weight': [4], 'silent': [1], 'subsample': [0.7], 'colsample_bytree': [0.3, 0.7], 'n_estimators': [50, 75, 100, 125, 150]},\n",
       "       pre_dispatch='2*n_jobs', refit=True, return_train_score='warn',\n",
       "       scoring=None, verbose=True)"
      ]
     },
     "execution_count": 32,
     "metadata": {},
     "output_type": "execute_result"
    }
   ],
   "source": [
    "from sklearn.model_selection import GridSearchCV\n",
    "from sklearn.model_selection import RandomizedSearchCV\n",
    "\n",
    "xgbr = XGBRegressor()\n",
    "parameters = {'nthread':[4], #when use hyperthread, xgboost may become slower\n",
    "              'objective':['reg:linear'],\n",
    "              'learning_rate': [.03, 0.05, .07, 0.1], #so called `eta` value\n",
    "              'max_depth': [5, 10, 15],\n",
    "              'min_child_weight': [4],\n",
    "              'silent': [1],\n",
    "              'subsample': [0.7],\n",
    "              'colsample_bytree': [0.3, 0.7],\n",
    "              'n_estimators': [50, 75, 100, 125, 150]}\n",
    "\n",
    "xgb_grid = GridSearchCV(xgbr,\n",
    "                        parameters,\n",
    "                        cv = 5,\n",
    "                        n_jobs = 5,\n",
    "                        verbose=True)\n",
    "\n",
    "xgb_grid.fit(X, y)"
   ]
  },
  {
   "cell_type": "code",
   "execution_count": 33,
   "metadata": {},
   "outputs": [
    {
     "name": "stdout",
     "output_type": "stream",
     "text": [
      "0.1363697321682035\n",
      "{'colsample_bytree': 0.7, 'learning_rate': 0.05, 'max_depth': 10, 'min_child_weight': 4, 'n_estimators': 150, 'nthread': 4, 'objective': 'reg:linear', 'silent': 1, 'subsample': 0.7}\n"
     ]
    }
   ],
   "source": [
    "print(xgb_grid.best_score_)\n",
    "print(xgb_grid.best_params_)"
   ]
  },
  {
   "cell_type": "code",
   "execution_count": 34,
   "metadata": {},
   "outputs": [
    {
     "name": "stdout",
     "output_type": "stream",
     "text": [
      "1.0094364353142373\n"
     ]
    }
   ],
   "source": [
    "from xgboost import XGBRegressor\n",
    "xgbr2 = XGBRegressor(max_depth=10, n_estimators=150, objective='reg:linear',learning_rate=0.05,\n",
    "                   colsample_bytree=0.7, subsample=0.7, nthread=4, min_child_weight=4, silent=1)\n",
    "xgbr2.fit(x_train,y_train)\n",
    "y_prediction = xgbr2.predict(x_cv)\n",
    "rms = sqrt(mean_squared_error(y_true=y_cv, y_pred=y_prediction))\n",
    "print(rms)"
   ]
  },
  {
   "cell_type": "code",
   "execution_count": 35,
   "metadata": {},
   "outputs": [
    {
     "data": {
      "text/plain": [
       "<matplotlib.axes._subplots.AxesSubplot at 0x2c900479358>"
      ]
     },
     "execution_count": 35,
     "metadata": {},
     "output_type": "execute_result"
    },
    {
     "data": {
      "image/png": "[encoded data removed]",
      "text/plain": [
       "<Figure size 864x576 with 1 Axes>"
      ]
     },
     "metadata": {
      "needs_background": "light"
     },
     "output_type": "display_data"
    }
   ],
   "source": [
    "## Feature Importance\n",
    "importances=pd.Series(xgbr2.feature_importances_, index=X.columns) \n",
    "importances.plot(kind='barh', figsize=(12,8))"
   ]
  },
  {
   "cell_type": "code",
   "execution_count": null,
   "metadata": {},
   "outputs": [],
   "source": []
  }
 ],
 "metadata": {
  "kernelspec": {
   "display_name": "Python 3",
   "language": "python",
   "name": "python3"
  },
  "language_info": {
   "codemirror_mode": {
    "name": "ipython",
    "version": 3
   },
   "file_extension": ".py",
   "mimetype": "text/x-python",
   "name": "python",
   "nbconvert_exporter": "python",
   "pygments_lexer": "ipython3",
   "version": "3.6.8"
  }
 },
 "nbformat": 4,
 "nbformat_minor": 2
}
